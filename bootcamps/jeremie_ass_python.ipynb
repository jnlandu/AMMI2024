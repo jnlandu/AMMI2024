{
  "nbformat": 4,
  "nbformat_minor": 0,
  "metadata": {
    "colab": {
      "provenance": []
    },
    "kernelspec": {
      "name": "python3",
      "display_name": "Python 3"
    },
    "language_info": {
      "name": "python"
    }
  },
  "cells": [
    {
      "cell_type": "markdown",
      "source": [
        "# Ex1:\n",
        "\n",
        "Declare a destroy_elements function that accepts two lists.\n",
        "It should return a list of all elements from the first list that are NOT contained in the second list.\n",
        " Use list comprehension in your solution.\n",
        "\n",
        " EXAMPLES\n",
        "* destroy_elements([1, 2, 3], [1, 2])      => [3]\n",
        "* destroy_elements([1, 2, 3], [1, 2, 3])   => []\n",
        "* destroy_elements([1, 2, 3], [4, 5])      => [1, 2, 3]"
      ],
      "metadata": {
        "id": "MkYYtX6Ktz35"
      }
    },
    {
      "cell_type": "code",
      "source": [
        "def destroy_elements(xs, ys):\n",
        "  if type(xs) != list and type(ys) !=list:\n",
        "    print(\"Inout only lists\")\n",
        "  else:\n",
        "    ls =[]\n",
        "    for x in xs:\n",
        "      if x not in ys:\n",
        "        ls.append(x)\n",
        "    return ls"
      ],
      "metadata": {
        "id": "2sGz_vlgt0cU"
      },
      "execution_count": null,
      "outputs": []
    },
    {
      "cell_type": "code",
      "source": [
        "print(\"Case 1: \",destroy_elements([1, 2, 3], [1, 2]) )\n",
        "print(\"Case 2: \",destroy_elements([1, 2, 3], [1, 2, 3]))\n",
        "print(\"Case 3: \",destroy_elements([1, 2, 3], [4, 5]))"
      ],
      "metadata": {
        "colab": {
          "base_uri": "https://localhost:8080/"
        },
        "id": "tZ1ERHtqTp6Z",
        "outputId": "001ef076-073c-4c38-e83f-dd0178cb5f77"
      },
      "execution_count": null,
      "outputs": [
        {
          "output_type": "stream",
          "name": "stdout",
          "text": [
            "Case 1:  [3]\n",
            "Case 2:  []\n",
            "Case 3:  [1, 2, 3]\n"
          ]
        }
      ]
    },
    {
      "cell_type": "code",
      "source": [
        "# @title Default title text\n",
        "destroy_elements = lambda xs,ys: [x for x in xs if x not in ys]  ## Ussing lambda expression"
      ],
      "metadata": {
        "id": "0SJhHr2nU3jj"
      },
      "execution_count": null,
      "outputs": []
    },
    {
      "cell_type": "code",
      "source": [
        "destroy_elements([1,2,3],[1,2])"
      ],
      "metadata": {
        "colab": {
          "base_uri": "https://localhost:8080/"
        },
        "id": "jbXHG8iEVKfv",
        "outputId": "a225120b-92fd-4728-d07c-b5eb54fbe3bd"
      },
      "execution_count": null,
      "outputs": [
        {
          "output_type": "execute_result",
          "data": {
            "text/plain": [
              "[3]"
            ]
          },
          "metadata": {},
          "execution_count": 20
        }
      ]
    },
    {
      "cell_type": "markdown",
      "source": [
        "# Ex2 (Majority element)\n",
        "Given an array nums of size n, return the majority element.\n",
        "\n",
        "The majority element is the element that appears more than ⌊n / 2⌋ times. You may assume that the majority element always exists in the array.\n",
        "\n",
        "Input: nums = [2,2,1,1,1,2,2] <br>\n",
        "Output: 2"
      ],
      "metadata": {
        "id": "UZq_NOou7ke9"
      }
    },
    {
      "cell_type": "code",
      "source": [
        "# Write your code here\n",
        "import math\n",
        "\"\"\"\n",
        "We can define a separate function that first counts the number of occurence of\n",
        "an item. Then use it to find the majoriy element.\n",
        "\n",
        "def count(xs, x):\n",
        "  cnt,l=0, 0\n",
        "  while l <= len(xs):\n",
        "    if x in xs[l:] and  x in xs[l:l+1]:\n",
        "      cnt +=1\n",
        "    l +=1\n",
        "  return cnt\n",
        "\"\"\"\n",
        "\n",
        "def majorityElement(nums):\n",
        "  cnt,l=0, 0\n",
        "  while l <= len(nums):\n",
        "    for x in nums:\n",
        "      if x in nums[l:] and  x in nums[l:l+1]:\n",
        "        cnt +=1\n",
        "      l +=1\n",
        "\n",
        "  for x in nums:\n",
        "    if cnt >= math.floor(len(nums)/2):\n",
        "      return x"
      ],
      "metadata": {
        "id": "xVn5x3Jas6W6"
      },
      "execution_count": null,
      "outputs": []
    },
    {
      "cell_type": "code",
      "source": [
        "nums = [2,2,1,1,1,2,2]\n",
        "majorityElement(nums)"
      ],
      "metadata": {
        "colab": {
          "base_uri": "https://localhost:8080/"
        },
        "id": "0GszeEpFZjrf",
        "outputId": "4a6e4deb-8d5c-4599-a522-6d05201688ce"
      },
      "execution_count": null,
      "outputs": [
        {
          "output_type": "execute_result",
          "data": {
            "text/plain": [
              "2"
            ]
          },
          "metadata": {},
          "execution_count": 76
        }
      ]
    },
    {
      "cell_type": "code",
      "source": [
        "nums[0:]"
      ],
      "metadata": {
        "colab": {
          "base_uri": "https://localhost:8080/"
        },
        "id": "S4sxkiWQa79e",
        "outputId": "789e23a2-0291-4ec9-91a8-b4831177a8e0"
      },
      "execution_count": null,
      "outputs": [
        {
          "output_type": "execute_result",
          "data": {
            "text/plain": [
              "[2, 2, 1, 1, 1, 2, 2]"
            ]
          },
          "metadata": {},
          "execution_count": 25
        }
      ]
    },
    {
      "cell_type": "markdown",
      "source": [
        "# Ex3:\n",
        "\n",
        "Given an integer array nums, return true if any value appears at least twice in the array, and return false if every element is distinct.\n",
        "\n",
        "Input: nums = [1,2,3,1] <br>\n",
        "Output: true"
      ],
      "metadata": {
        "id": "puVxPeZP9IGO"
      }
    },
    {
      "cell_type": "code",
      "source": [
        "# Write your code here\n",
        "def containsDuplicate(nums):\n",
        "  for l in range(len(nums)):\n",
        "    if nums[l] in nums[l:] and nums[l] in nums[l+1:]:\n",
        "      return True\n",
        "  return False"
      ],
      "metadata": {
        "id": "Ma6zH-6NuJ4d"
      },
      "execution_count": 238,
      "outputs": []
    },
    {
      "cell_type": "code",
      "source": [
        "nums = [1,2,3,5,7,3]\n",
        "containsDuplicate(nums)"
      ],
      "metadata": {
        "colab": {
          "base_uri": "https://localhost:8080/"
        },
        "id": "u0_aP1_jgs4j",
        "outputId": "3656f8c7-7e91-4c11-d361-1b3a685eb77d"
      },
      "execution_count": null,
      "outputs": [
        {
          "output_type": "execute_result",
          "data": {
            "text/plain": [
              "True"
            ]
          },
          "metadata": {},
          "execution_count": 2
        }
      ]
    },
    {
      "cell_type": "markdown",
      "source": [
        "# Ex4:\n",
        "Write a factors function that accepts a positive whole number\n",
        "It should return a list of all of the number's factors in ascending order\n",
        " HINT: Could the range function be helpful here? Or maybe a while loop?\n",
        "EXAMPLES\n",
        "\n",
        "* factors(1)  => [1]\n",
        "* factors(2)  => [1, 2]\n",
        "* factors(10) => [1, 2, 5, 10]\n",
        "* factors(64) => [1, 2, 4, 8, 16, 32, 64]\n"
      ],
      "metadata": {
        "id": "rVd-qLroC36V"
      }
    },
    {
      "cell_type": "code",
      "source": [
        "def factors(n):\n",
        "  return [i for i in range(1,n+1) if n% i==0]"
      ],
      "metadata": {
        "id": "D0yaEPVHuczY"
      },
      "execution_count": null,
      "outputs": []
    },
    {
      "cell_type": "code",
      "source": [
        "factors(10)"
      ],
      "metadata": {
        "colab": {
          "base_uri": "https://localhost:8080/"
        },
        "id": "6tCfA_fCnoWT",
        "outputId": "98520c63-aa6a-4f9d-b164-4640b6adf814"
      },
      "execution_count": null,
      "outputs": [
        {
          "output_type": "execute_result",
          "data": {
            "text/plain": [
              "[1, 2, 5, 10]"
            ]
          },
          "metadata": {},
          "execution_count": 113
        }
      ]
    },
    {
      "cell_type": "markdown",
      "source": [
        "#Ex5:\n",
        "Write a Python function that takes a positive integer as input and returns the sum of the squares of all the positive integers up to that number."
      ],
      "metadata": {
        "id": "h4ErNY7uG5xR"
      }
    },
    {
      "cell_type": "code",
      "source": [
        "# Write your code here\n",
        "def sum_of_squares(n):\n",
        "  sm= 0\n",
        "  for l in range(n+1):\n",
        "      sm += l**2\n",
        "  return  sm"
      ],
      "metadata": {
        "id": "ocvQN8hUubSr"
      },
      "execution_count": 3,
      "outputs": []
    },
    {
      "cell_type": "code",
      "source": [
        "sum_of_squares(4)"
      ],
      "metadata": {
        "colab": {
          "base_uri": "https://localhost:8080/"
        },
        "id": "5k9KENlDld0h",
        "outputId": "550fafea-cb13-4817-ac2b-98bccfa6c8c0"
      },
      "execution_count": 5,
      "outputs": [
        {
          "output_type": "execute_result",
          "data": {
            "text/plain": [
              "30"
            ]
          },
          "metadata": {},
          "execution_count": 5
        }
      ]
    },
    {
      "cell_type": "markdown",
      "source": [
        "#Ex6:\n",
        "Create a list of tuples, where each tuple represents a person with a name and age. Sort the list based on the age of the individuals."
      ],
      "metadata": {
        "id": "88GfmnrlHVqu"
      }
    },
    {
      "cell_type": "code",
      "source": [
        "## sort algo:\n",
        "xs = [1, 5, 3, 2,5,10, 7, 3,1]\n",
        "def sortxs(xs):\n",
        "  for i in range(len(xs)-2):\n",
        "    a = xs[i]\n",
        "    b= xs[i+1]\n",
        "    if xs[i]< xs[i+1]:\n",
        "      pass\n",
        "    else:\n",
        "      xs[i+1]= a\n",
        "      xs[i] =b\n",
        "      sort(xs[i:i+2])\n",
        "  return\n"
      ],
      "metadata": {
        "id": "DOgxm0YWt5Ru"
      },
      "execution_count": null,
      "outputs": []
    },
    {
      "cell_type": "code",
      "source": [
        "xs = [1, 5, 3, 2,5,10, 7, 3,1]\n",
        "\n",
        "xs[0:2]"
      ],
      "metadata": {
        "colab": {
          "base_uri": "https://localhost:8080/"
        },
        "id": "I-2vl6Ocwy8c",
        "outputId": "95a2f04a-8814-4b68-d267-332ae573045d"
      },
      "execution_count": null,
      "outputs": [
        {
          "output_type": "execute_result",
          "data": {
            "text/plain": [
              "[1, 5]"
            ]
          },
          "metadata": {},
          "execution_count": 173
        }
      ]
    },
    {
      "cell_type": "code",
      "source": [
        "# Write your code here\n",
        "def sort(nameAge):\n",
        "  for i in range(len(nameAge)-1):\n",
        "    a=nameAge[i]\n",
        "    b=nameAge[i+1]\n",
        "    if nameAge[i][1]<nameAge[i+1][1]:\n",
        "      nameAge[i] = b\n",
        "      nameAge[i+1]=a\n",
        "    else:\n",
        "      nameAge[i] =a\n",
        "      nameAge[i+1]=b\n",
        "  return nameAge"
      ],
      "metadata": {
        "id": "CHmcYjf4uu8N"
      },
      "execution_count": null,
      "outputs": []
    },
    {
      "cell_type": "code",
      "source": [
        "nameAge=[(\"jeremie\",50), (\"omer\", 26),(\"henock\", 15), (\"DzouDzou\", 25), (\"Charmaine\",24), (\"Natasha\",22), (\"Indila\",23),(\"Josue\", 30),(\"Marc\",19),(\"Antoine\",52), (\"Valentin\",60)]\n",
        "sort(nameAge)\n",
        "nums"
      ],
      "metadata": {
        "colab": {
          "base_uri": "https://localhost:8080/"
        },
        "id": "f8bblf-9qMmH",
        "outputId": "322a84fd-30f0-4730-b639-d581f8cd8166"
      },
      "execution_count": null,
      "outputs": [
        {
          "output_type": "execute_result",
          "data": {
            "text/plain": [
              "[1, 2, 3, 5, 7, 3]"
            ]
          },
          "metadata": {},
          "execution_count": 163
        }
      ]
    },
    {
      "cell_type": "markdown",
      "source": [
        "#Ex7:\n",
        "Write a function that takes a list of words and a minimum length, and returns a new list containing only the words that are longer than the specified length."
      ],
      "metadata": {
        "id": "-2cOhkMwHIg4"
      }
    },
    {
      "cell_type": "code",
      "source": [
        "# Write your code here\n",
        "def list_words(words, min_length):\n"
      ],
      "metadata": {
        "id": "JObqLzcWvJds"
      },
      "execution_count": null,
      "outputs": []
    },
    {
      "cell_type": "markdown",
      "source": [
        "# Ex8:\n",
        "Declare a delete_all function that accepts a list and a target\n",
        "Remove all occurrences of the target  from the list and return it\n",
        "\n",
        "EXAMPLES\n",
        "* delete_all([1, 3, 5], 3)  => [1, 5]\n",
        "* delete_all([5, 3, 5], 5)  => [3]\n",
        "* delete_all([4, 4, 4], 4)  => []\n",
        "* delete_all([4, 4, 4], 6)  => [4, 4, 4]"
      ],
      "metadata": {
        "id": "0ZS6BKpEDu9x"
      }
    },
    {
      "cell_type": "code",
      "source": [
        "# Write your code here\n",
        "def delete_all(xs, target):\n",
        "  return [x  for x in xs if target !=x ]"
      ],
      "metadata": {
        "id": "iKKREE4XvyWL"
      },
      "execution_count": 4,
      "outputs": []
    },
    {
      "cell_type": "code",
      "source": [
        "print(delete_all([1, 3, 5], 3))\n",
        "print(delete_all([5, 3, 5], 5))\n",
        "print(delete_all([4, 4, 4], 4))"
      ],
      "metadata": {
        "colab": {
          "base_uri": "https://localhost:8080/"
        },
        "id": "J47x6gU7IPl7",
        "outputId": "8c507a15-f94f-4c74-cf6a-56edffabc581"
      },
      "execution_count": null,
      "outputs": [
        {
          "output_type": "stream",
          "name": "stdout",
          "text": [
            "[1, 5]\n",
            "[3]\n",
            "[]\n"
          ]
        }
      ]
    },
    {
      "cell_type": "markdown",
      "source": [
        "# Ex9:\n",
        "\n",
        "Define an encrypt_message function that accepts a string.\n",
        " The input string will consist of only alphabetic characters.\n",
        " The function should return a string where all characters have been moved\n",
        " \"up\" two spots in the alphabet. For example, \"a\" will become \"c\".\n",
        "\n",
        " EXAMPLES\n",
        "* encrypt_message(\"abc\") =&gt; \"cde\"\n",
        "* encrypt_message(\"xyz\") =&gt; \"zab\"\n",
        "* encrypt_message(\"\")    =&gt; \"\"\n",
        "\n",
        "* bonus:  can you write a function to decrypt the encrypted message :)"
      ],
      "metadata": {
        "id": "R4dKFHA6D4-m"
      }
    },
    {
      "cell_type": "code",
      "source": [
        "# Write your code here\n",
        "alphabet = [\"a\", \"b\", \"c\", \"d\", \"e\",\"f\", \"g\",\"h\",\"i\",\"j\",\"k\",\"l\",\"m\",\"n\",\"o\",\"p\",\"q\",\"r\",\"s\",\"t\",\"u\",\"v\",\"w\",\"x\",\"y\",\"z\"]\n",
        "def encrypt_message(message):\n",
        "  if type(message)!=str:\n",
        "    return \"Only strings\"\n",
        "  else:\n",
        "    ls, i=[], 0\n",
        "    while i < len(message):\n",
        "      ls.append(message[i])\n",
        "      i +=1\n",
        "    if message==\"\":\n",
        "      return \"\"\n",
        "    else:\n",
        "      for i in range(len(ls)):\n",
        "        index = alphabet.index(ls[i])\n",
        "        ls[i]=alphabet[((index +1)% 25)]\n",
        "      return ls"
      ],
      "metadata": {
        "id": "b-Vd-7NUv2LA"
      },
      "execution_count": 118,
      "outputs": []
    },
    {
      "cell_type": "code",
      "source": [
        "encrypt_message(\"xyz\")"
      ],
      "metadata": {
        "colab": {
          "base_uri": "https://localhost:8080/"
        },
        "id": "ZpcPrk9cJpdn",
        "outputId": "ee82e441-f817-4e90-f578-08b607378855"
      },
      "execution_count": 121,
      "outputs": [
        {
          "output_type": "execute_result",
          "data": {
            "text/plain": [
              "['y', 'a', 'b']"
            ]
          },
          "metadata": {},
          "execution_count": 121
        }
      ]
    },
    {
      "cell_type": "code",
      "source": [
        "ls=[\"x\",\"y\",\"z\"]\n",
        "index=alphabet.index(ls[2])\n",
        "((1+1)%25)+1"
      ],
      "metadata": {
        "colab": {
          "base_uri": "https://localhost:8080/"
        },
        "id": "ViWr_lxBgxIs",
        "outputId": "993cd4fd-2f5a-41e8-ff7f-3502dedbe873"
      },
      "execution_count": 120,
      "outputs": [
        {
          "output_type": "execute_result",
          "data": {
            "text/plain": [
              "3"
            ]
          },
          "metadata": {},
          "execution_count": 120
        }
      ]
    },
    {
      "cell_type": "markdown",
      "source": [
        "#Ex10:\n",
        "\n",
        "Define a word_lengths function that accepts a string.\n",
        "It should return a list with the lengths of each word.\n",
        "\n",
        " EXAMPLES\n",
        "* word_lengths(\"Mary Poppins was a nanny\")  => [4, 7, 3, 1, 5]\n",
        "* word_lengths(\"Somebody stole my donut\")   => [8, 5, 2, 5]"
      ],
      "metadata": {
        "id": "LDKoTj1NEFdY"
      }
    },
    {
      "cell_type": "code",
      "source": [
        "# Write your code here"
      ],
      "metadata": {
        "id": "mou8C2sav7pS"
      },
      "execution_count": null,
      "outputs": []
    },
    {
      "cell_type": "markdown",
      "source": [
        "# Ex11:\n",
        "\n",
        "Define a cleanup function that accepts a list of strings.\n",
        "The function should return the strings joined together by a space.\n",
        "There's one BIG problem -- some of the strings are empty or only consist of spaces!\n",
        "These should NOT be included in the final string\n",
        "#\n",
        "* cleanup([\"cat\", \"er\", \"pillar\"])           => \"cat er pillar\"\n",
        "* cleanup([\"cat\", \" \", \"er\", \"\", \"pillar\"])  => \"cat er pillar\"\n",
        "* cleanup([\"\", \"\", \" \"])                     => \"\"\n"
      ],
      "metadata": {
        "id": "WFRV5VYbEWEd"
      }
    },
    {
      "cell_type": "code",
      "source": [
        "# Write your code here\n",
        "def cleanup(ls):\n",
        "  s =\"\"\n",
        "  for x in ls:\n",
        "    if x != \"\":\n",
        "      s += x +\" \"\n",
        "  return s"
      ],
      "metadata": {
        "id": "x3E0yruswBSn"
      },
      "execution_count": 142,
      "outputs": []
    },
    {
      "cell_type": "code",
      "source": [
        "cleanup([\"cat\", \"er\", \"pillar\"])\n",
        "cleanup([\"\", \"\", \" \"])"
      ],
      "metadata": {
        "colab": {
          "base_uri": "https://localhost:8080/",
          "height": 56
        },
        "id": "IJMgGucJmI7t",
        "outputId": "ad96de07-d9ca-4c7c-f221-b3404d5eb65d"
      },
      "execution_count": 144,
      "outputs": [
        {
          "output_type": "execute_result",
          "data": {
            "text/plain": [
              "'  '"
            ],
            "application/vnd.google.colaboratory.intrinsic+json": {
              "type": "string"
            }
          },
          "metadata": {},
          "execution_count": 144
        }
      ]
    },
    {
      "cell_type": "markdown",
      "source": [
        "# Ex12:\n",
        "\n",
        "Define a nested_sum function that accepts a list of lists of numbers\n",
        "The function should return the sum of the values\n",
        " The list may contain empty lists\n",
        "\n",
        " EXAMPLES\n",
        "* nested_sum([[1, 2, 3], [4, 5]])            =&gt; 15\n",
        "* nested_sum([[1, 2, 3], [], [], [4], [5]])  =&gt; 15\n",
        "* nested_sum([[]])   "
      ],
      "metadata": {
        "id": "nIyrVVFDEnHE"
      }
    },
    {
      "cell_type": "code",
      "source": [
        "# Write your code here"
      ],
      "metadata": {
        "id": "iL1WpI0lwE9Y"
      },
      "execution_count": null,
      "outputs": []
    },
    {
      "cell_type": "markdown",
      "source": [
        "#Ex13:\n",
        "Create a dictionary representing a person (include name, age, and city). Write a program to:\n",
        "\n",
        "* Print the person's information.\n",
        "* Update the person's age.\n",
        "* Add a new key-value pair for the person's occupation.\n",
        "* Display the updated dictionary."
      ],
      "metadata": {
        "id": "qR-UrTXyH3P6"
      }
    },
    {
      "cell_type": "code",
      "source": [
        "# Write your code here"
      ],
      "metadata": {
        "id": "Hlpnr_thsp-e"
      },
      "execution_count": null,
      "outputs": []
    },
    {
      "cell_type": "markdown",
      "source": [
        "# Ex14:\n",
        "\n",
        "Many organizations have user ids which are constrained in some way. Imagine you work at an internet service provider and the user ids are all two letters followed by two numbers (e.g. aa49). Your task at such an organization might be to hold a record on the billing activity for each possible user.\n",
        "\n",
        "Write an initialization line as a single list comprehension which creates a list of all possible user ids. Assume the letters are all lower case."
      ],
      "metadata": {
        "id": "Vw-3fHSNFoWC"
      }
    },
    {
      "cell_type": "code",
      "source": [
        "# Write your code here"
      ],
      "metadata": {
        "id": "lBlaus6ZwKRr"
      },
      "execution_count": null,
      "outputs": []
    },
    {
      "cell_type": "markdown",
      "source": [
        "# Ex15:\n",
        "Ask the user to enter a password, then:\n",
        "\n",
        "*   check if it contains uppercase letters, lowercase letters, numbers and special characters.\n",
        "*   Give feedback to the user(\"Strong password!\" or \" The password should include a mix of uppercase letters, lowercase letters, numbers, and special characters.\" ).\n",
        "\n"
      ],
      "metadata": {
        "id": "hCecXHVOFaWG"
      }
    },
    {
      "cell_type": "code",
      "source": [
        "# Write your code here\n"
      ],
      "metadata": {
        "id": "ik9Jg2XbGmcR"
      },
      "execution_count": null,
      "outputs": []
    },
    {
      "cell_type": "markdown",
      "source": [
        "# Ex16:\n",
        "\n",
        "Declare a sum_of_evens_and_odds function that accepts a tuple of numbers.\n",
        "#### It should return a tuple with two numeric values:\n",
        " - the sum of the even numbers\n",
        " - the sum of the odd numbers.\n",
        "* sum_of_evens_and_odds((1, 2, 3, 4))   => (6, 4)\n",
        "* sum_of_evens_and_odds((1, 3, 5))      => (0, 9)\n",
        "* sum_of_evens_and_odds((2, 4, 6))      => (12, 0)\n"
      ],
      "metadata": {
        "id": "rR0les2KG-2C"
      }
    },
    {
      "cell_type": "code",
      "source": [
        "# Write your code here\n"
      ],
      "metadata": {
        "id": "i1QUrg1qHEAf"
      },
      "execution_count": null,
      "outputs": []
    },
    {
      "cell_type": "markdown",
      "source": [
        "# Ex17:\n",
        "\n",
        "Define a length_counts function that accepts a list of strings.\n",
        "The function should return a dictionary where the keys represent\n",
        " length and the values represent how many strings have that length.\n",
        "\n",
        " EXAMPLE:\n",
        "* sa_countries = [\"Brazil\", \"Venezuela\", \"Argentina\", \"Ecuador\", \"Bolivia\", \"Peru\"]\n",
        "* length_counts(sa_countries) =&gt; # {6: 1, 9: 2, 7: 2, 4: 1}\n",
        "* There is 1 string with 6 letters, 2 strings with 9 letters,\n",
        "* 2 strings with 7 letters, and 1 string with 4 letters."
      ],
      "metadata": {
        "id": "zN-lIAX6PBv_"
      }
    },
    {
      "cell_type": "code",
      "source": [
        "# Write your code here"
      ],
      "metadata": {
        "id": "XQNXxohDPI2a"
      },
      "execution_count": null,
      "outputs": []
    },
    {
      "cell_type": "markdown",
      "source": [
        "# Ex18:\n",
        "\n",
        "Given two strings s and t, determine if they are isomorphic.\n",
        "\n",
        "Two strings s and t are isomorphic if the characters in s can be replaced to get t.\n",
        "\n",
        "All occurrences of a character must be replaced with another character while preserving the order of characters. No two characters may map to the same character, but a character may map to itself."
      ],
      "metadata": {
        "id": "18XGQlvusz41"
      }
    },
    {
      "cell_type": "markdown",
      "source": [
        "Input: s = \"egg\", t = \"add\" <br>\n",
        "Output: true\n",
        "<br><br>\n",
        "Input: s = \"foo\", t = \"bar\" <br>\n",
        "Output: false"
      ],
      "metadata": {
        "id": "Y_nkzWLltAqh"
      }
    },
    {
      "cell_type": "code",
      "source": [
        "# Write your code here\n",
        "def is_isomorphic1(s, t):\n",
        "  for i in range(len(s)):\n",
        "    if s[i] in s[i+1:] or t[i] in t[i+1:]:\n",
        "      return False\n",
        "    else:\n",
        "      return True\n",
        ""
      ],
      "metadata": {
        "id": "_6R7d_HHs7jX"
      },
      "execution_count": 257,
      "outputs": []
    },
    {
      "cell_type": "code",
      "source": [
        "def isIsomorphic(s, t):\n",
        "    if len(s) != len(t):\n",
        "        return False\n",
        "\n",
        "    s_to_t = {}\n",
        "    t_to_s = {}\n",
        "\n",
        "    for char_s, char_t in zip(s, t):\n",
        "        if char_s not in s_to_t and char_t not in t_to_s:\n",
        "            s_to_t[char_s] = char_t\n",
        "            t_to_s[char_t] = char_s\n",
        "        elif s_to_t.get(char_s) != char_t or t_to_s.get(char_t) != char_s:\n",
        "            return False\n",
        "\n",
        "    return True\n",
        "\n",
        "# Test cases\n",
        "print(isIsomorphic(\"egg\", \"add\"))  # Output: True\n",
        "print(isIsomorphic(\"foo\", \"bar\"))  # Output: False\n"
      ],
      "metadata": {
        "colab": {
          "base_uri": "https://localhost:8080/"
        },
        "id": "uaejReV758me",
        "outputId": "4fa64b95-1b54-4d54-d9f2-db67bf01e80b"
      },
      "execution_count": 279,
      "outputs": [
        {
          "output_type": "stream",
          "name": "stdout",
          "text": [
            "True\n",
            "False\n"
          ]
        }
      ]
    },
    {
      "cell_type": "code",
      "source": [
        "def isIsomorphic(s, t):\n",
        "    if len(s) != len(t):\n",
        "        return False\n",
        "\n",
        "    s_to_t = {}\n",
        "    t_to_s = {}\n",
        "\n",
        "    for i in range(len(s)):\n",
        "        char_s = s[i]\n",
        "        char_t = t[i]\n",
        "\n",
        "        if char_s not in s_to_t and char_t not in t_to_s:\n",
        "            s_to_t[char_s] = char_t\n",
        "            t_to_s[char_t] = char_s\n",
        "        elif s_to_t.get(char_s) != char_t or t_to_s.get(char_t) != char_s:\n",
        "            return False\n",
        "\n",
        "    return True"
      ],
      "metadata": {
        "colab": {
          "base_uri": "https://localhost:8080/"
        },
        "id": "QGw4kGkIBLsY",
        "outputId": "9923e461-565d-4beb-87d7-95168851da36"
      },
      "execution_count": 281,
      "outputs": [
        {
          "output_type": "stream",
          "name": "stdout",
          "text": [
            "False\n",
            "False\n"
          ]
        }
      ]
    },
    {
      "cell_type": "markdown",
      "source": [
        "# Ex19:\n",
        "\n",
        " Dot product of vectors: <br>\n",
        "\n",
        "Vectors are mathematical objects that are often used to represent the inputs to neural networks. One way to view the vectors is as list of items. Complete the following code to compute dot product of two vectors. Dot product is defined the following equation:-\n",
        "</font>\n",
        "\n",
        "$$\n",
        "x.y = <x, y> = x^Ty = \\sum_{i}^n x_iy_i\n",
        "$$\n",
        "\n",
        "<font  color=\"white\">\n",
        "Assume that only lists are passed to the function and they also contain only numeric datatype.\n",
        "\n",
        "</font>"
      ],
      "metadata": {
        "id": "ZwDgOtitva28"
      }
    },
    {
      "cell_type": "code",
      "source": [
        "# Write your code here\n",
        "def dot_prod(x,y):\n",
        "  if len(x) != len(y):\n",
        "    return \"Impossible\"\n",
        "  else:\n",
        "    dot = 0\n",
        "    for i in range(len(x)):\n",
        "      dot += x[i]*y[i]\n",
        "  return dot\n",
        "dot_prod([2,3], [2,1])"
      ],
      "metadata": {
        "id": "hP7lPZtWv3Ot",
        "colab": {
          "base_uri": "https://localhost:8080/"
        },
        "outputId": "049b9bf3-be28-4ff6-f0b1-1ff0037f6a32"
      },
      "execution_count": 237,
      "outputs": [
        {
          "output_type": "execute_result",
          "data": {
            "text/plain": [
              "7"
            ]
          },
          "metadata": {},
          "execution_count": 237
        }
      ]
    },
    {
      "cell_type": "markdown",
      "source": [
        "# Ex20:\n",
        "\n",
        "Write a function MatMul that multiplies two 2D matrices A and B and returns the result\n",
        "\n",
        "Validate you code using:\n",
        "\n",
        "```\n",
        "A = [ [1,2,3],[4,5,6] ]\n",
        "B = [ [4,5], [1,2], [0, 1] ]\n",
        "\n",
        "\n",
        "```"
      ],
      "metadata": {
        "id": "M8uSZ_oewecj"
      }
    },
    {
      "cell_type": "code",
      "source": [
        "def MatMul(A, B):\n",
        "\n",
        "  for i in range(n):\n",
        "    for j in range(m):\n",
        "\n",
        "\n",
        "\n",
        "\n",
        "A = [ [1,2,3],[4,5,6] ]\n",
        "B = [ [4,5], [1,2], [0, 1] ]\n",
        "print(MatMul(A, B))\n",
        "assert MatMul(A, B)==[[6, 12], [21, 36]], \"Your implementation is not correct\"\n",
        "print(\"Congrats, It is working\")"
      ],
      "metadata": {
        "id": "sKKwisC5wuZq",
        "colab": {
          "base_uri": "https://localhost:8080/",
          "height": 124
        },
        "outputId": "cba204d7-7b08-4b8c-87b3-b8a5993aeb6f"
      },
      "execution_count": 235,
      "outputs": [
        {
          "output_type": "error",
          "ename": "IndentationError",
          "evalue": "expected an indented block after function definition on line 1 (<ipython-input-235-c1479e2fe355>, line 7)",
          "traceback": [
            "\u001b[0;36m  File \u001b[0;32m\"<ipython-input-235-c1479e2fe355>\"\u001b[0;36m, line \u001b[0;32m7\u001b[0m\n\u001b[0;31m    A = [ [1,2,3],[4,5,6] ]\u001b[0m\n\u001b[0m    ^\u001b[0m\n\u001b[0;31mIndentationError\u001b[0m\u001b[0;31m:\u001b[0m expected an indented block after function definition on line 1\n"
          ]
        }
      ]
    },
    {
      "cell_type": "markdown",
      "source": [
        "#Ex21:\n",
        "\n",
        "<b> Given a list l, reverse l.\n",
        "Ex= [1,2,3,4,5] ==> [5,4,3,2,1]. In this case the operation has to be done in-place. Do not allow new memory space</b>\n",
        "\n",
        "DON't USE THE PYTHON INDEXING [::-1]"
      ],
      "metadata": {
        "id": "BZcW3Dk_eJoz"
      }
    },
    {
      "cell_type": "code",
      "source": [
        "# Write your code here\n",
        "def reverse(xs):\n",
        "  ls =[]\n",
        "  for i in range(len(xs)):\n",
        "    ls.append(xs[len(xs)-i-1])\n",
        "  return ls\n",
        "reverse([1,2,3,4,5] )"
      ],
      "metadata": {
        "id": "t2nH7TUMeR9S",
        "colab": {
          "base_uri": "https://localhost:8080/"
        },
        "outputId": "7d8b7deb-87ce-4f2a-e998-99872291ba03"
      },
      "execution_count": 234,
      "outputs": [
        {
          "output_type": "execute_result",
          "data": {
            "text/plain": [
              "[5, 4, 3, 2, 1]"
            ]
          },
          "metadata": {},
          "execution_count": 234
        }
      ]
    },
    {
      "cell_type": "markdown",
      "source": [
        "# Ex22:\n",
        "\n",
        "<b> Given a string s, check whether s is a palindrome. s is the palindrome if s is equal to its reverse.Using:\n",
        "- slicing in python\n",
        "- loop.</b>\n",
        "\n",
        "example : s='aba' is a palindrom\n",
        "s='abaa' isnot a palindrom"
      ],
      "metadata": {
        "id": "7t8LhgVbespH"
      }
    },
    {
      "cell_type": "code",
      "source": [
        "# Write your code here\n",
        "def reverse(word):\n",
        "  ls,s =[],\"\"\n",
        "  for i in range(len(word)):\n",
        "    ls.append(word[len(word)-i-1])\n",
        "  for x in word:\n",
        "    s +=x\n",
        "  return s\n",
        "\n",
        "def is_palindrome(word):\n",
        "  if reverse(word) == word:\n",
        "    return True\n",
        "  else:\n",
        "    return False"
      ],
      "metadata": {
        "id": "tLIuX7ASesVx"
      },
      "execution_count": 229,
      "outputs": []
    },
    {
      "cell_type": "code",
      "source": [
        "is_palindrome(\"aba\")"
      ],
      "metadata": {
        "colab": {
          "base_uri": "https://localhost:8080/"
        },
        "id": "Bdr8ZvYpziGv",
        "outputId": "88fd0781-c170-4602-f738-f12bf5358ca3"
      },
      "execution_count": 232,
      "outputs": [
        {
          "output_type": "execute_result",
          "data": {
            "text/plain": [
              "True"
            ]
          },
          "metadata": {},
          "execution_count": 232
        }
      ]
    },
    {
      "cell_type": "markdown",
      "source": [
        "# Ex23:\n",
        "\n",
        "Find the factorial of a given number:\n",
        "\n",
        "Write a program to use the loop to find the factorial of a given number.\n",
        "\n",
        "The factorial (symbol: !) means to multiply all whole numbers from the chosen number down to 1.\n",
        "\n",
        "For example: calculate the factorial of 5"
      ],
      "metadata": {
        "id": "u5vdU3SBiUqd"
      }
    },
    {
      "cell_type": "code",
      "source": [
        "# Write your code here\n",
        "def fac(n):\n",
        "  if n < 0:\n",
        "    return \"Impossible\"\n",
        "  else:\n",
        "    if n == 1:\n",
        "      return 1\n",
        "    else:\n",
        "      return n*fac(n-1)\n",
        "fac(3)"
      ],
      "metadata": {
        "id": "TPzmWdq7ieiu",
        "colab": {
          "base_uri": "https://localhost:8080/"
        },
        "outputId": "1499588b-b568-4bab-8ac5-fd8cd6ac6fb2"
      },
      "execution_count": 209,
      "outputs": [
        {
          "output_type": "execute_result",
          "data": {
            "text/plain": [
              "6"
            ]
          },
          "metadata": {},
          "execution_count": 209
        }
      ]
    },
    {
      "cell_type": "markdown",
      "source": [
        "# Ex24:\n",
        "\n",
        "Display Fibonacci series up to 10 terms:\n",
        "\n",
        "The Fibonacci Sequence is a series of numbers. The next number is found by adding up the two numbers before it. The first two numbers are 0 and 1.\n",
        "\n",
        "For example, 0, 1, 1, 2, 3, 5, 8, 13, 21. The next number in this series above is 13+21 = 34."
      ],
      "metadata": {
        "id": "G6evsWkHimeY"
      }
    },
    {
      "cell_type": "code",
      "source": [
        "# Write your code here\n",
        "def fib(n):\n",
        "  if n == 0:\n",
        "    return 0\n",
        "  elif n == 1:\n",
        "    return 1\n",
        "  elif n==2:\n",
        "    return 1\n",
        "  else:\n",
        "    return fib(n-1) + fib(n-2)\n",
        "fib(4)"
      ],
      "metadata": {
        "id": "aZC6D0VOiq4F",
        "colab": {
          "base_uri": "https://localhost:8080/"
        },
        "outputId": "9bb409de-dba5-44cd-b8c3-d4808a71079f"
      },
      "execution_count": 205,
      "outputs": [
        {
          "output_type": "execute_result",
          "data": {
            "text/plain": [
              "3"
            ]
          },
          "metadata": {},
          "execution_count": 205
        }
      ]
    },
    {
      "cell_type": "markdown",
      "source": [
        "# Ex25:\n",
        "\n",
        "- Write a program to display all prime numbers within a range.\n",
        "\n",
        "- range\n",
        "start = 19\n",
        "end = 70"
      ],
      "metadata": {
        "id": "5XdX6KBqi2S1"
      }
    },
    {
      "cell_type": "code",
      "source": [
        "## test if a number is prime:\n",
        "def is_prime(n):\n",
        "  if n==2:\n",
        "    return True\n",
        "  else:\n",
        "     for i in range(2,n):\n",
        "      if (n % i) == 0:\n",
        "        return False\n",
        "      return True\n",
        "is_prime(13)"
      ],
      "metadata": {
        "colab": {
          "base_uri": "https://localhost:8080/"
        },
        "id": "qMVDSO2Qtv8w",
        "outputId": "99424a3e-6f24-4651-be4b-02cbbe80f9c5"
      },
      "execution_count": 189,
      "outputs": [
        {
          "output_type": "execute_result",
          "data": {
            "text/plain": [
              "True"
            ]
          },
          "metadata": {},
          "execution_count": 189
        }
      ]
    },
    {
      "cell_type": "code",
      "source": [
        "# Write your code here\n",
        "primes=lambda min,max: [i for i in range(min, max) if is_prime(i)]\n",
        "primes(19, 70)"
      ],
      "metadata": {
        "id": "wmxegZhOi9qb",
        "colab": {
          "base_uri": "https://localhost:8080/"
        },
        "outputId": "e98834c3-1b16-490f-fdfc-9e3c008cf4c1"
      },
      "execution_count": 192,
      "outputs": [
        {
          "output_type": "execute_result",
          "data": {
            "text/plain": [
              "[19,\n",
              " 21,\n",
              " 23,\n",
              " 25,\n",
              " 27,\n",
              " 29,\n",
              " 31,\n",
              " 33,\n",
              " 35,\n",
              " 37,\n",
              " 39,\n",
              " 41,\n",
              " 43,\n",
              " 45,\n",
              " 47,\n",
              " 49,\n",
              " 51,\n",
              " 53,\n",
              " 55,\n",
              " 57,\n",
              " 59,\n",
              " 61,\n",
              " 63,\n",
              " 65,\n",
              " 67,\n",
              " 69]"
            ]
          },
          "metadata": {},
          "execution_count": 192
        }
      ]
    },
    {
      "cell_type": "markdown",
      "source": [
        "#Ex26:\n",
        "Write a program to copy the contents of one text file (input.txt) to another file (output.txt). Handle the case where file1 does not exist."
      ],
      "metadata": {
        "id": "ndYKDm2JHr39"
      }
    },
    {
      "cell_type": "code",
      "source": [
        "# Write your code here"
      ],
      "metadata": {
        "id": "uE0h7JNcvsb_"
      },
      "execution_count": null,
      "outputs": []
    }
  ]
}