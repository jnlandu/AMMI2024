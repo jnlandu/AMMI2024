{
  "cells": [
    {
      "cell_type": "markdown",
      "metadata": {
        "id": "mCt-frpFH8oN"
      },
      "source": [
        "The tutorials use PyTorch. You will need to load the following dependencies."
      ]
    },
    {
      "cell_type": "code",
      "execution_count": null,
      "metadata": {
        "id": "RSxdXhMwD8Il"
      },
      "outputs": [],
      "source": [
        "# This specific version of torchvision is needed to download the mnist set\n",
        "!pip3 install torch torchvision"
      ]
    },
    {
      "cell_type": "code",
      "execution_count": null,
      "metadata": {
        "id": "hqnl0AKVXIA4"
      },
      "outputs": [],
      "source": [
        "import random\n",
        "\n",
        "import imageio\n",
        "import matplotlib.pyplot as plt\n",
        "\n",
        "import numpy as np\n",
        "import PIL\n",
        "import skimage.transform\n",
        "import torch\n",
        "import torch.nn as nn\n",
        "import torch.utils.data\n",
        "import torchvision\n",
        "from IPython import display\n",
        "from torchvision import datasets, transforms"
      ]
    },
    {
      "cell_type": "markdown",
      "metadata": {
        "id": "8iU5s0JWD8In"
      },
      "source": [
        "# Tutorial 2b: Batch Normalization"
      ]
    },
    {
      "cell_type": "markdown",
      "metadata": {
        "id": "CKeYuM-cIXxs"
      },
      "source": [
        "The code below may be helpful in visualizing PyTorch tensors as images."
      ]
    },
    {
      "cell_type": "code",
      "execution_count": null,
      "metadata": {
        "id": "ZZd_rI8edYIB"
      },
      "outputs": [],
      "source": [
        "%matplotlib inline\n",
        "\n",
        "\n",
        "def show(img):\n",
        "    \"\"\"Show PyTorch tensor img as an image in matplotlib.\"\"\"\n",
        "    npimg = img.cpu().detach().numpy()\n",
        "    plt.imshow(np.transpose(npimg, (1, 2, 0)), interpolation=\"nearest\")\n",
        "    plt.grid(False)\n",
        "    plt.gca().axis(\"off\")\n",
        "\n",
        "\n",
        "def display_thumb(img):\n",
        "    display.display(transforms.Resize(128)(img))"
      ]
    },
    {
      "cell_type": "code",
      "execution_count": null,
      "metadata": {
        "id": "dzfEE578uSNp"
      },
      "outputs": [],
      "source": [
        "device = \"cuda\" if torch.cuda.is_available() else \"cpu\""
      ]
    },
    {
      "cell_type": "markdown",
      "metadata": {
        "id": "zgE0byUgKwM6"
      },
      "source": [
        "Load MNIST and define train/test functions as before. Please make sure you read the code carefully and understand what it is doing."
      ]
    },
    {
      "cell_type": "code",
      "execution_count": null,
      "metadata": {
        "id": "-NMUce6PKu-o"
      },
      "outputs": [],
      "source": [
        "# Load the training and test dataset.\n",
        "mnist_train = datasets.MNIST(\n",
        "    \"/tmp/mnist\", train=True, download=True, transform=transforms.ToTensor()\n",
        ")\n",
        "mnist_test = datasets.MNIST(\n",
        "    \"/tmp/mnist\", train=False, download=True, transform=transforms.ToTensor()\n",
        ")\n",
        "\n",
        "# Size of the batches the data loader will produce.\n",
        "batch_size = 64\n",
        "\n",
        "# This creates the dataloaders.\n",
        "train_loader = torch.utils.data.DataLoader(\n",
        "    mnist_train, batch_size=batch_size, shuffle=True\n",
        ")\n",
        "test_loader = torch.utils.data.DataLoader(\n",
        "    mnist_test, batch_size=batch_size, shuffle=False\n",
        ")"
      ]
    },
    {
      "cell_type": "code",
      "execution_count": null,
      "metadata": {
        "id": "TgAJ94UgK1VU"
      },
      "outputs": [],
      "source": [
        "def train(model, criterion, data_loader, optimizer, num_epochs):\n",
        "    \"\"\"Simple training loop for a PyTorch model.\"\"\"\n",
        "\n",
        "    # Make sure model is in training mode.\n",
        "    model.train()\n",
        "\n",
        "    # Move model to the device (CPU or GPU).\n",
        "    model.to(device)\n",
        "\n",
        "    # Exponential moving average of the loss.\n",
        "    ema_loss = None\n",
        "\n",
        "    # Loop over epochs.\n",
        "    for epoch in range(num_epochs):\n",
        "\n",
        "        # Loop over data.\n",
        "        for batch_idx, (data, target) in enumerate(data_loader):\n",
        "\n",
        "            # Forward pass.\n",
        "            output = model(data.to(device))\n",
        "            loss = criterion(output.to(device), target.to(device))\n",
        "\n",
        "            # Backward pass.\n",
        "            optimizer.zero_grad()\n",
        "            loss.backward()\n",
        "            optimizer.step()\n",
        "\n",
        "            # NOTE: It is important to call .item() on the loss before summing.\n",
        "            if ema_loss is None:\n",
        "                ema_loss = loss.item()\n",
        "            else:\n",
        "                ema_loss += (loss.item() - ema_loss) * 0.01\n",
        "\n",
        "        # Print out progress the end of epoch.\n",
        "        print(\n",
        "            \"Train Epoch: {} \\tLoss: {:.6f}\".format(epoch, ema_loss),\n",
        "        )\n",
        "\n",
        "\n",
        "def test(model, data_loader):\n",
        "    \"\"\"Measures the accuracy of a model on a data set.\"\"\"\n",
        "    # Make sure the model is in evaluation mode.\n",
        "    model.eval()\n",
        "    correct = 0\n",
        "\n",
        "    # We do not need to maintain intermediate activations while testing.\n",
        "    with torch.no_grad():\n",
        "\n",
        "        # Loop over test data.\n",
        "        for data, target in data_loader:\n",
        "\n",
        "            # Forward pass.\n",
        "            output = model(data.to(device))\n",
        "\n",
        "            # Get the label corresponding to the highest predicted probability.\n",
        "            pred = output.argmax(dim=1, keepdim=True)\n",
        "\n",
        "            # Count number of correct predictions.\n",
        "            correct += pred.cpu().eq(target.view_as(pred)).sum().item()\n",
        "\n",
        "    # Print test accuracy.\n",
        "    percent = 100.0 * correct / len(data_loader.dataset)\n",
        "    print(f\"Accuracy: {correct} / {len(data_loader.dataset)} ({percent:.0f}%)\")\n",
        "    return percent"
      ]
    },
    {
      "cell_type": "markdown",
      "metadata": {
        "id": "H62iCSVAD8Ir"
      },
      "source": [
        "In the last tutorial, you implemented a naive convolution. In this section you will implement your own version of forward pass of nn.Conv2d without using any of PyTorch's (or numpy's) pre-defined convolutional functions."
      ]
    },
    {
      "cell_type": "code",
      "execution_count": null,
      "metadata": {
        "id": "qJbl4lMDD8Ir"
      },
      "outputs": [],
      "source": [
        "def conv_forward_naive(x, w, b, conv_param):\n",
        "    \"\"\"\n",
        "    A naive Python implementation of a convolutional layer.\n",
        "    The input consists of N data points, each with C channels, height H and\n",
        "    width W. We convolve each input with F different filters, where each filter\n",
        "    spans all C channels and has height HH and width WW.\n",
        "    Input:\n",
        "    - x: Input data of shape (N, C, H, W)\n",
        "    - w: Filter weights of shape (F, C, HH, WW)\n",
        "    - b: Biases, of shape (F,)\n",
        "    - conv_param: A dictionary with the following keys:\n",
        "      - 'stride': The number of pixels between adjacent receptive fields in the\n",
        "        horizontal and vertical directions.\n",
        "      - 'pad': The number of pixels that will be used to zero-pad the input.\n",
        "\n",
        "    During padding, 'pad' zeros should be placed symmetrically (i.e., equally on both sides)\n",
        "    along the height and width axes of the input. Be careful not to modfiy the original\n",
        "    input x directly.\n",
        "    Returns an array.\n",
        "    - out: Output data, of shape (N, F, H', W') where H' and W' are given by\n",
        "      H' = 1 + (H + 2 * pad - HH) / stride\n",
        "      W' = 1 + (W + 2 * pad - WW) / stride\n",
        "    \"\"\"\n",
        "    N, C, H, W = x.shape\n",
        "    num_filters, _, filter_height, filter_width = w.shape\n",
        "    stride, pad = conv_param[\"stride\"], conv_param[\"pad\"]\n",
        "\n",
        "    # Check dimensions.\n",
        "    assert (W + 2 * pad - filter_width) % stride == 0, \"width does not work\"\n",
        "    assert (H + 2 * pad - filter_height) % stride == 0, \"height does not work\"\n",
        "\n",
        "    ###########################################################################\n",
        "    # TODO: Implement the forward pass of a convolutional layer without using #\n",
        "    #       nn.Conv2D or other implementations of convolutions. Instead, use  #\n",
        "    #       standard for- and while-loops to iterate over the tensors.        #\n",
        "    #                                                                         #\n",
        "    # Hint: you can use the function torch.nn.functional.pad for padding.     #\n",
        "    ###########################################################################\n",
        "    H_ = 1 + (H + 2 * pad - filter_height) // stride\n",
        "    W_ = 1 + (H + 2 * pad - filter_height) // stride\n",
        "\n",
        "    xp = nn.functional.pad(x, (pad, pad, pad, pad), 'constant')\n",
        "    out = torch.zeros((N, num_filters, H_, W_))\n",
        "\n",
        "    for n in range(N):\n",
        "        for f in range(num_filters):   #skim the filters\n",
        "            for i in range(H_):\n",
        "                for j in range(W_):\n",
        "                    for k in range(filter_height): # filter indices\n",
        "                        for l in range(filter_width):\n",
        "                            for c in range(C): # image depth\n",
        "                                out[n,f,i,j] += xp[n, c, stride*i+k, stride*j+l] * w[f, c, k, l]\n",
        "                    out[n,f,i,j] += b[f]\n",
        "\n",
        "    return out"
      ]
    },
    {
      "cell_type": "markdown",
      "metadata": {
        "id": "JzMFlHlQD8Ir"
      },
      "source": [
        "You can test your implementation by running the following testing code:"
      ]
    },
    {
      "cell_type": "code",
      "execution_count": null,
      "metadata": {
        "id": "bm3h4RR2D8Ir",
        "colab": {
          "base_uri": "https://localhost:8080/"
        },
        "outputId": "cee5b5c5-8f7a-485b-9b94-e00b3907d357"
      },
      "outputs": [
        {
          "output_type": "stream",
          "name": "stdout",
          "text": [
            "Testing conv_forward_naive\n",
            "difference:  tensor(2.8017e-08)\n",
            "Nice work! Your implementation of a convolution layer works correctly.\n"
          ]
        }
      ],
      "source": [
        "# Make convolution module.\n",
        "w_shape = (3, 3, 4, 4)\n",
        "w = torch.linspace(-0.2, 0.3, steps=torch.prod(torch.tensor(w_shape))).reshape(w_shape)\n",
        "b = torch.linspace(-0.1, 0.2, steps=3)\n",
        "\n",
        "# Compute output of module and compare against reference values.\n",
        "x_shape = (2, 3, 4, 4)\n",
        "x = torch.linspace(-0.1, 0.5, steps=torch.prod(torch.tensor(x_shape))).reshape(x_shape)\n",
        "out = conv_forward_naive(x, w, b, {\"stride\": 2, \"pad\": 1})\n",
        "\n",
        "correct_out = torch.tensor(\n",
        "    [\n",
        "        [\n",
        "            [[-0.08759809, -0.10987781], [-0.18387192, -0.2109216]],\n",
        "            [[0.21027089, 0.21661097], [0.22847626, 0.23004637]],\n",
        "            [[0.50813986, 0.54309974], [0.64082444, 0.67101435]],\n",
        "        ],\n",
        "        [\n",
        "            [[-0.98053589, -1.03143541], [-1.19128892, -1.24695841]],\n",
        "            [[0.69108355, 0.66880383], [0.59480972, 0.56776003]],\n",
        "            [[2.36270298, 2.36904306], [2.38090835, 2.38247847]],\n",
        "        ],\n",
        "    ]\n",
        ")\n",
        "\n",
        "# Compare your output to ours; difference should be around e-8\n",
        "print(\"Testing conv_forward_naive\")\n",
        "rel_error = ((out - correct_out) / (out + correct_out + 1e-6)).mean()\n",
        "print(\"difference: \", rel_error)\n",
        "if abs(rel_error) < 1e-6:\n",
        "    print(\"Nice work! Your implementation of a convolution layer works correctly.\")\n",
        "else:\n",
        "    print(\n",
        "        \"Something is wrong. The output was expected to be {} but it was {}\".format(\n",
        "            correct_out, out\n",
        "        )\n",
        "    )"
      ]
    },
    {
      "cell_type": "markdown",
      "metadata": {
        "id": "GjTq5-k_q8s_"
      },
      "source": [
        "\n",
        "We will now replace the logistic regressor from the last tutorial by a small convolutional network with two convolutional layers and a linear layer, and ReLU activations in between the layers. Implement the model and use the same functions as before to train and test the convolutional network."
      ]
    },
    {
      "cell_type": "code",
      "execution_count": null,
      "metadata": {
        "id": "5t4hWoUYpp05",
        "colab": {
          "base_uri": "https://localhost:8080/"
        },
        "outputId": "19c6d87e-7db7-4e31-ce32-788f243e155d"
      },
      "outputs": [
        {
          "output_type": "stream",
          "name": "stdout",
          "text": [
            "Train Epoch: 0 \tLoss: 0.742484\n",
            "Train Epoch: 1 \tLoss: 0.404450\n",
            "Train Epoch: 2 \tLoss: 0.356567\n",
            "Train Epoch: 3 \tLoss: 0.341412\n",
            "Train Epoch: 4 \tLoss: 0.311971\n",
            "Accuracy: 9135 / 10000 (91%)\n"
          ]
        },
        {
          "output_type": "execute_result",
          "data": {
            "text/plain": [
              "91.35"
            ]
          },
          "metadata": {},
          "execution_count": 30
        }
      ],
      "source": [
        "class ConvolutionalNetwork(nn.Module):\n",
        "    \"\"\"Simple convolutional network.\"\"\"\n",
        "\n",
        "    def __init__(self, image_side_size, num_classes, in_channels=1):\n",
        "        super(ConvolutionalNetwork, self).__init__()\n",
        "\n",
        "        # Fill these in:\n",
        "        ##########################################################################\n",
        "        # TODO: Implement a convulutional and a linear part.                     #\n",
        "        # Hint: see forward() to understand how they should work together.       #\n",
        "        ##########################################################################\n",
        "        self.conv_network = nn.Sequential(\n",
        "            nn.Conv2d(in_channels, 28, 3),\n",
        "        # self.out_size = self.conv_network(image_side_size)\n",
        "        nn.ReLU(),\n",
        "        nn.Conv2d(28, 3, 3),\n",
        "        nn.ReLU(),\n",
        "        )\n",
        "        self.linear = nn.Linear(1728, num_classes)\n",
        "\n",
        "    def forward(self, x):\n",
        "        x = self.conv_network(x)\n",
        "        x = self.linear(x.view(x.size(0), -1))\n",
        "        return x\n",
        "\n",
        "\n",
        "# Create and train convolutional network.\n",
        "# The accuracy should be around 96%.\n",
        "conv_model = ConvolutionalNetwork(28, 10)\n",
        "###########################################################################\n",
        "# TODO: Create criterion and optimize here.                               #\n",
        "###########################################################################\n",
        "criterion = nn.CrossEntropyLoss()\n",
        "optimizer = torch.optim.SGD(conv_model.parameters(), lr = .001)\n",
        "\n",
        "train(conv_model, criterion, train_loader, optimizer, num_epochs=5)\n",
        "test(conv_model, test_loader)"
      ]
    },
    {
      "cell_type": "markdown",
      "metadata": {
        "id": "luAfK-XcD8Is"
      },
      "source": [
        "Inspect the filters in the first layer of the trained convolutional network. What do they look like? Why?"
      ]
    },
    {
      "cell_type": "code",
      "execution_count": null,
      "metadata": {
        "id": "LuSuQHT6bNdU",
        "colab": {
          "base_uri": "https://localhost:8080/",
          "height": 296
        },
        "outputId": "c1fe2cdd-9b75-418f-c82d-a2910b4fa9f9"
      },
      "outputs": [
        {
          "output_type": "display_data",
          "data": {
            "text/plain": [
              "<Figure size 640x480 with 1 Axes>"
            ],
            "image/png": "[encoded data removed]"
          },
          "metadata": {}
        }
      ],
      "source": [
        "first_conv = list(conv_model.conv_network.children())[0]\n",
        "show(\n",
        "    torchvision.utils.make_grid(\n",
        "        first_conv.weight,\n",
        "        normalize=True,\n",
        "        nrow=8,\n",
        "    )\n",
        ")"
      ]
    },
    {
      "cell_type": "markdown",
      "metadata": {
        "id": "71LRkRxndajG"
      },
      "source": [
        "## Batch Normalization\n"
      ]
    },
    {
      "cell_type": "markdown",
      "metadata": {
        "id": "oN8qTuGkZ-3X"
      },
      "source": [
        "Batch normalization is tenchique that allows to make training more stable fast [1].\n",
        "\n",
        "Below we define a convolutional network with 3 layers. Before each ReLU layer we insert a BatchNorm2d layer if `use_batch_norm` is `True`. This improves the convergence as guarantees as values have the same variance asn zero-means. As a result on average exactly half of the values will be nulled by ReLU.\n",
        "\n",
        "[1] Ioffe, Sergey, and Christian Szegedy. \"Batch normalization: Accelerating deep network training by reducing internal covariate shift.\" arXiv preprint arXiv:1502.03167 (2015).\n",
        "\n",
        "**Task**. Go ahead and add batch normalization layer."
      ]
    },
    {
      "cell_type": "code",
      "execution_count": null,
      "metadata": {
        "id": "vg4CO_WDeLqh"
      },
      "outputs": [],
      "source": [
        "class ConvolutionalNetworkWithBN(nn.Module):\n",
        "    \"\"\"Convolutional network uses batch normalization when `use_batch_norm` is `True`.\"\"\"\n",
        "\n",
        "    def __init__(self, use_batch_norm=False):\n",
        "        super().__init__()\n",
        "        num_channels = 8\n",
        "        self.use_batch_norm = use_batch_norm\n",
        "\n",
        "        # We define all our layers in a single Sequential. If use_batch_norm is\n",
        "        # True, we'd like maybe_batch_norm_layer to produce a batchnorm layer.\n",
        "        self.conv = nn.Sequential(\n",
        "            # 1x28x28 -> 8x24x24.\n",
        "            nn.Conv2d(1, num_channels, kernel_size=5),\n",
        "            # 8x24x24 -> 8x12x12.\n",
        "            nn.MaxPool2d(2),\n",
        "            self.maybe_batch_norm_layer(num_channels),\n",
        "            nn.ReLU(inplace=True),\n",
        "            nn.Conv2d(num_channels, num_channels, kernel_size=3, padding=1),\n",
        "            self.maybe_batch_norm_layer(num_channels),\n",
        "            nn.ReLU(inplace=True),\n",
        "            # 8x12x12 -> 8x8x8.\n",
        "            nn.Conv2d(num_channels, num_channels, kernel_size=5),\n",
        "            # 8x8x8 -> 8x4x4.\n",
        "            nn.MaxPool2d(2),\n",
        "            self.maybe_batch_norm_layer(num_channels),\n",
        "            nn.ReLU(inplace=True),\n",
        "        )\n",
        "        self.linear = nn.Linear(num_channels * 4**2, 10)\n",
        "\n",
        "    def maybe_batch_norm_layer(self, num_channels):\n",
        "        if self.use_batch_norm:\n",
        "            ###########################################################################\n",
        "            # TODO: Add batch norm layer                                              #\n",
        "            # Put your code between START_GRADING and END_GRADING.                    #\n",
        "            ###########################################################################\n",
        "\n",
        "            ## START_GRADING\n",
        "            return nn.BatchNorm2d(num_channels)\n",
        "            ## END_GRADING\n",
        "        else:\n",
        "            # This layer will copy its input to the output.\n",
        "            return nn.Identity()\n",
        "\n",
        "    def forward(self, x):\n",
        "        x = self.conv(x)\n",
        "        x = self.linear(x.view(x.size(0), -1))\n",
        "        return x"
      ]
    },
    {
      "cell_type": "markdown",
      "metadata": {
        "id": "qbtzzBhiJ4PW"
      },
      "source": [
        "To see how batch normalization improves stability, let's try to train the neural network with different learning rates and check the accuracies."
      ]
    },
    {
      "cell_type": "code",
      "execution_count": null,
      "metadata": {
        "id": "YXuSliJF3r7u",
        "colab": {
          "base_uri": "https://localhost:8080/"
        },
        "outputId": "0433e4e6-88c0-40f8-8c12-0e529013b7cf"
      },
      "outputs": [
        {
          "output_type": "stream",
          "name": "stdout",
          "text": [
            "Train Epoch: 0 \tLoss: 0.121276\n",
            "Accuracy: 9517 / 10000 (95%)\n",
            "##### lr=0.3 leads to DECENT accuracy (no batch normalization)\n",
            "Train Epoch: 0 \tLoss: 0.134503\n",
            "Accuracy: 9619 / 10000 (96%)\n",
            "##### lr=0.1 leads to GOOD accuracy (no batch normalization)\n",
            "Train Epoch: 0 \tLoss: 0.218582\n",
            "Accuracy: 9468 / 10000 (95%)\n",
            "##### lr=0.03 leads to DECENT accuracy (no batch normalization)\n",
            "Train Epoch: 0 \tLoss: 0.460502\n",
            "Accuracy: 8835 / 10000 (88%)\n",
            "##### lr=0.01 leads to BAD accuracy (no batch normalization)\n",
            "Train Epoch: 0 \tLoss: 2.300086\n",
            "Accuracy: 1051 / 10000 (11%)\n",
            "##### lr=0.003 leads to BAD accuracy (no batch normalization)\n"
          ]
        }
      ],
      "source": [
        "for lr in 0.3, 0.1, 0.03, 0.01, 0.003:\n",
        "    conv_model = ConvolutionalNetworkWithBN()\n",
        "    optimizer = torch.optim.SGD(conv_model.parameters(), lr=lr)\n",
        "    train(conv_model, nn.CrossEntropyLoss(), train_loader, optimizer, num_epochs=1)\n",
        "    accuracy = test(conv_model, test_loader)\n",
        "    if accuracy > 96:\n",
        "        print(f\"##### lr={lr} leads to GOOD accuracy (no batch normalization)\")\n",
        "    elif accuracy > 90:\n",
        "        print(f\"##### lr={lr} leads to DECENT accuracy (no batch normalization)\")\n",
        "    else:\n",
        "        print(f\"##### lr={lr} leads to BAD accuracy (no batch normalization)\")"
      ]
    },
    {
      "cell_type": "markdown",
      "metadata": {
        "id": "WrJBxM03KOZ-"
      },
      "source": [
        "As you can see learning rate should be in a narrow region to get GOOD result.\n",
        "\n",
        "Now let's try to run the same batch normalization. Before running the code you should finish TODO in ConvolutionalNetworkWithBN code. If your code is correct, then accuracies will improve."
      ]
    },
    {
      "cell_type": "code",
      "execution_count": null,
      "metadata": {
        "id": "6u2JJdnX5VKF",
        "colab": {
          "base_uri": "https://localhost:8080/"
        },
        "outputId": "5034aa8c-9c20-4e26-a3b5-d1a842280bdf"
      },
      "outputs": [
        {
          "output_type": "stream",
          "name": "stdout",
          "text": [
            "Train Epoch: 0 \tLoss: 0.065334\n",
            "Accuracy: 9775 / 10000 (98%)\n",
            "##### lr=0.3 leads to GOOD accuracy (with batch normalization)\n",
            "Train Epoch: 0 \tLoss: 0.070709\n",
            "Accuracy: 9796 / 10000 (98%)\n",
            "##### lr=0.1 leads to GOOD accuracy (with batch normalization)\n",
            "Train Epoch: 0 \tLoss: 0.101867\n",
            "Accuracy: 9732 / 10000 (97%)\n",
            "##### lr=0.03 leads to GOOD accuracy (with batch normalization)\n",
            "Train Epoch: 0 \tLoss: 0.192463\n",
            "Accuracy: 9602 / 10000 (96%)\n",
            "##### lr=0.01 leads to GOOD accuracy (with batch normalization)\n",
            "Train Epoch: 0 \tLoss: 0.566110\n",
            "Accuracy: 9217 / 10000 (92%)\n",
            "##### lr=0.003 leads to DECENT accuracy (with batch normalization)\n"
          ]
        }
      ],
      "source": [
        "for lr in 0.3, 0.1, 0.03, 0.01, 0.003:\n",
        "    conv_model = ConvolutionalNetworkWithBN(use_batch_norm=True)\n",
        "    optimizer = torch.optim.SGD(conv_model.parameters(), lr=lr)\n",
        "    train(conv_model, nn.CrossEntropyLoss(), train_loader, optimizer, num_epochs=1)\n",
        "    accuracy = test(conv_model, test_loader)\n",
        "    if accuracy > 96:\n",
        "        print(f\"##### lr={lr} leads to GOOD accuracy (with batch normalization)\")\n",
        "    elif accuracy > 90:\n",
        "        print(f\"##### lr={lr} leads to DECENT accuracy (with batch normalization)\")\n",
        "    else:\n",
        "        print(f\"##### lr={lr} leads to BAD accuracy (with batch normalization)\")\n",
        "    if lr >= 0.01:\n",
        "        assert (\n",
        "            accuracy > 90\n",
        "        ), \"Accuracy is too low. Check that your BatchNorm implementation is correct!\""
      ]
    },
    {
      "cell_type": "markdown",
      "metadata": {
        "id": "gdgr7eNFTTAn"
      },
      "source": [
        "**Question [optional]:** Replace the batch normalization layer in your network by your own implementation. Confirm your batch-normalization implementation is correct."
      ]
    },
    {
      "cell_type": "code",
      "execution_count": null,
      "metadata": {
        "id": "MAuhUMtjTj3f"
      },
      "outputs": [],
      "source": [
        "class MyBatchNorm2d(nn.Module):\n",
        "    \"\"\"Simple implementation of batch normalization.\"\"\"\n",
        "\n",
        "    def __init__(self, num_channels, momentum=0.1, epsilon=1e-5):\n",
        "        super(MyBatchNorm2d, self).__init__()\n",
        "\n",
        "        # Initialize bias and gain parameters.\n",
        "        self.gamma = nn.Parameter(torch.ones(1, num_channels, 1, 1))\n",
        "        self.beta = nn.Parameter(torch.zeros(1, num_channels, 1, 1))\n",
        "\n",
        "        # Initialize moving averages.\n",
        "        self.epsilon = epsilon\n",
        "        self.momentum = momentum\n",
        "        self.register_buffer(\"running_mean\", torch.zeros((1, num_channels, 1, 1)))\n",
        "        self.register_buffer(\"running_var\", torch.ones((1, num_channels, 1, 1)))\n",
        "\n",
        "    def forward(self, x):\n",
        "        # Check that input is of correct size.\n",
        "        assert x.dim() == 4, \"input should be NCHW\"\n",
        "        assert x.size(1) == self.gamma.numel()\n",
        "\n",
        "        ########################################################################\n",
        "        # TODO: Add batch norm layer implementation.                           #\n",
        "        # You code should:                                                     #\n",
        "        #   * Compute mean and var.                                            #\n",
        "        #   * Update running_mean and running_var.                             #\n",
        "        #   * Apply mean - variance normalization to x.                        #\n",
        "        # Put your code between START_GRADING and END_GRADING.                 #\n",
        "        ########################################################################\n",
        "\n",
        "        ##START_GRADING\n",
        "        if self.training == True:\n",
        "          mean = torch.mean(x, dim =(0,2,3), keepdim = True)\n",
        "\n",
        "          var = torch.var(x,dim = (0,2,3), keepdim = True)\n",
        "          self.running_mean =  (1 - self.momentum) * self.running_mean + self.momentum * mean\n",
        "          self.running_var =  (1 - self.momentum) * self.running_var +  self.momentum * var\n",
        "\n",
        "        else:\n",
        "\n",
        "          mean = self.running_mean\n",
        "          var =  self.running_var\n",
        "\n",
        "        x_hat = (x-mean)/torch.sqrt(var + self.epsilon)\n",
        "        y =  x_hat * self.gamma + self.beta\n",
        "        return y\n",
        "        ## END_GRADING\n",
        "\n",
        "\n"
      ]
    },
    {
      "cell_type": "code",
      "execution_count": null,
      "metadata": {
        "id": "09zn3DayD8Iu",
        "colab": {
          "base_uri": "https://localhost:8080/"
        },
        "outputId": "0b1ff331-345f-43d6-c9ff-5793956a5d32"
      },
      "outputs": [
        {
          "output_type": "stream",
          "name": "stdout",
          "text": [
            "All OK!\n"
          ]
        }
      ],
      "source": [
        "# Use this code to test if your implementation is correct.\n",
        "batch_size, num_channels, im_size = 32, 8, 6\n",
        "batchnorm1 = nn.BatchNorm2d(num_channels)\n",
        "batchnorm2 = MyBatchNorm2d(num_channels)\n",
        "for key, param in batchnorm1.named_parameters():\n",
        "    if key == \"weight\":\n",
        "        param.data.fill_(1.0)  # undo random initialization in nn.BatchNorm2d\n",
        "for mode in [True, False]:  # test in training and evaluation mode\n",
        "    batchnorm1.train(mode=mode)\n",
        "    batchnorm2.train(mode=mode)\n",
        "    for _ in range(5):\n",
        "        x = torch.randn(batch_size, num_channels, im_size, im_size) + 10.0\n",
        "        out1 = batchnorm1(x)\n",
        "        out2 = batchnorm2(x)\n",
        "        assert (\n",
        "            batchnorm1.running_mean - batchnorm2.running_mean.squeeze()\n",
        "        ).abs().max() < 1e-5, \"running mean is incorrect (%s mode)\" % (\n",
        "            \"train\" if mode else \"eval\"\n",
        "        )\n",
        "        assert (\n",
        "            batchnorm1.running_var - batchnorm2.running_var.squeeze()\n",
        "        ).abs().max() < 1e-5, \"running variance is incorrect (%s mode)\" % (\n",
        "            \"train\" if mode else \"eval\"\n",
        "        )\n",
        "        assert (\n",
        "            out1 - out2\n",
        "        ).abs().max() < 5e-3, \"normalized output is incorrect (%s mode)\" % (\n",
        "            \"train\" if mode else \"eval\"\n",
        "        )\n",
        "print(\"All OK!\")"
      ]
    },
    {
      "cell_type": "code",
      "source": [],
      "metadata": {
        "id": "Czq62mPgPIqf"
      },
      "execution_count": null,
      "outputs": []
    }
  ],
  "metadata": {
    "accelerator": "GPU",
    "colab": {
      "provenance": []
    },
    "kernelspec": {
      "display_name": "Python 3 (ipykernel)",
      "language": "python",
      "name": "python3"
    },
    "language_info": {
      "codemirror_mode": {
        "name": "ipython",
        "version": 3
      },
      "file_extension": ".py",
      "mimetype": "text/x-python",
      "name": "python",
      "nbconvert_exporter": "python",
      "pygments_lexer": "ipython3",
      "version": "3.10.2"
    }
  },
  "nbformat": 4,
  "nbformat_minor": 0
}